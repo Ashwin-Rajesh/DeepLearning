{
  "nbformat": 4,
  "nbformat_minor": 0,
  "metadata": {
    "colab": {
      "name": "Untitled0.ipynb",
      "provenance": [],
      "include_colab_link": true
    },
    "kernelspec": {
      "name": "python3",
      "display_name": "Python 3"
    }
  },
  "cells": [
    {
      "cell_type": "markdown",
      "metadata": {
        "id": "view-in-github",
        "colab_type": "text"
      },
      "source": [
        "<a href=\"https://colab.research.google.com/github/Ashwin-Rajesh/DeepLearning/blob/master/Nerual-Networks-And-Deep-Learning/NN1-LogisticRegression.ipynb\" target=\"_parent\"><img src=\"https://colab.research.google.com/assets/colab-badge.svg\" alt=\"Open In Colab\"/></a>"
      ]
    },
    {
      "cell_type": "markdown",
      "metadata": {
        "id": "pesG3cP_-8je",
        "colab_type": "text"
      },
      "source": [
        "# Logistic Regression\n",
        "---\n",
        "- Logistic regression is regression applied to binary classification problems.\n",
        "- Example - Does image contain a car?\n",
        "---\n",
        "## Structure and notation\n",
        "- Input is in the form of n values, represented by an **n-dimensional vector**\n",
        "- Output  - A single value, which is **either 0 or 1**\n",
        "- Input vectors in datasett are arranged column-wise to form a matrix\n",
        "- Outputs in the dataset are arranged in same order to form a vector\n",
        ">![Input matrix structure image](https://raw.githubusercontent.com/Ashwin-Rajesh/DeepLearning/master/Nerual-Networks-And-Deep-Learning/Images/Screenshot%20from%202020-03-08%2022-10-50.png)\n",
        ">![Output vector structure image](https://raw.githubusercontent.com/Ashwin-Rajesh/DeepLearning/master/Nerual-Networks-And-Deep-Learning/Images/Screenshot%20from%202020-03-08%2022-16-41.png)\n",
        ">- m : Number of samples in dataset\n",
        ">- nx : Number of input variables in the model"
      ]
    },
    {
      "cell_type": "markdown",
      "metadata": {
        "id": "iQWm1JRXFRIz",
        "colab_type": "text"
      },
      "source": [
        "# Loss Function\n",
        "---\n",
        "- The loss function calculates the 'error' of predictions made by our model\n",
        "- The aim is to reduce this error as much as possible.\n",
        "- In logistic regression, the loss function used is\n",
        "> L(y , y_pred) = -(y * log(y_pred) + (1 - y) * log(1 - y_pred))\n",
        "- Error of entire model is calculated by averaging loss in predictions of individual samples in the training set"
      ]
    },
    {
      "cell_type": "code",
      "metadata": {
        "id": "i5BKNp-c868E",
        "colab_type": "code",
        "colab": {}
      },
      "source": [
        "# Importing required libraries\n",
        "import numpy as np"
      ],
      "execution_count": 0,
      "outputs": []
    }
  ]
}